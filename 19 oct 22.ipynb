{
 "cells": [
  {
   "cell_type": "code",
   "execution_count": 1,
   "id": "46792116",
   "metadata": {},
   "outputs": [
    {
     "name": "stdout",
     "output_type": "stream",
     "text": [
      "hello prajakta\n"
     ]
    }
   ],
   "source": [
    "#function definition\n",
    "def abc():\n",
    "    a=\"prajakta\"\n",
    "    print(\"hello\",a)\n",
    "abc() #function calling"
   ]
  },
  {
   "cell_type": "code",
   "execution_count": 2,
   "id": "39fdafc5",
   "metadata": {},
   "outputs": [
    {
     "data": {
      "text/plain": [
       "50"
      ]
     },
     "execution_count": 2,
     "metadata": {},
     "output_type": "execute_result"
    }
   ],
   "source": [
    "def abc(a,b):\n",
    "    return a+b\n",
    "abc(20,30)"
   ]
  },
  {
   "cell_type": "code",
   "execution_count": 3,
   "id": "37789d42",
   "metadata": {},
   "outputs": [
    {
     "name": "stdout",
     "output_type": "stream",
     "text": [
      "50\n",
      "150\n"
     ]
    }
   ],
   "source": [
    "def abc(a,b):\n",
    "    return a+b\n",
    "b=abc(20,30)\n",
    "print(b)\n",
    "print(b+100)"
   ]
  },
  {
   "cell_type": "code",
   "execution_count": 4,
   "id": "6f5ff52f",
   "metadata": {},
   "outputs": [
    {
     "name": "stdout",
     "output_type": "stream",
     "text": [
      "150\n"
     ]
    }
   ],
   "source": [
    "#types of argument\n",
    "#default argument\n",
    "def abc(a,b,c=90):\n",
    "    return a+b+c\n",
    "b=abc(10,50)\n",
    "print(b)"
   ]
  },
  {
   "cell_type": "code",
   "execution_count": 6,
   "id": "e0cfa004",
   "metadata": {},
   "outputs": [
    {
     "name": "stdout",
     "output_type": "stream",
     "text": [
      "60\n"
     ]
    }
   ],
   "source": [
    "#keywords\n",
    "def abc(a,b):\n",
    "    return a+b\n",
    "b=abc(a=10,b=50)\n",
    "print(b)"
   ]
  },
  {
   "cell_type": "code",
   "execution_count": 8,
   "id": "2f8d3405",
   "metadata": {},
   "outputs": [
    {
     "name": "stdout",
     "output_type": "stream",
     "text": [
      "-30\n"
     ]
    }
   ],
   "source": [
    "#positional\n",
    "def abc(a,b):\n",
    "    return a-b\n",
    "b=abc(b=90,a=60)\n",
    "print(b)"
   ]
  },
  {
   "cell_type": "code",
   "execution_count": 9,
   "id": "17cae806",
   "metadata": {},
   "outputs": [
    {
     "name": "stdout",
     "output_type": "stream",
     "text": [
      "200\n"
     ]
    }
   ],
   "source": [
    "#variable length\n",
    "#artibary positional\n",
    "def record(*marks):\n",
    "    a=0\n",
    "    for i in marks:\n",
    "        a=a+i\n",
    "    print(a)\n",
    "record(40,80,60,20)\n",
    " "
   ]
  },
  {
   "cell_type": "code",
   "execution_count": 10,
   "id": "5f4668f7",
   "metadata": {},
   "outputs": [
    {
     "ename": "TypeError",
     "evalue": "record() got an unexpected keyword argument 'a'",
     "output_type": "error",
     "traceback": [
      "\u001b[1;31m---------------------------------------------------------------------------\u001b[0m",
      "\u001b[1;31mTypeError\u001b[0m                                 Traceback (most recent call last)",
      "Input \u001b[1;32mIn [10]\u001b[0m, in \u001b[0;36m<cell line: 7>\u001b[1;34m()\u001b[0m\n\u001b[0;32m      5\u001b[0m         subject_marks\u001b[38;5;241m=\u001b[39mmarks[i]\n\u001b[0;32m      6\u001b[0m     \u001b[38;5;28mprint\u001b[39m(subjects,subjects_marks)\n\u001b[1;32m----> 7\u001b[0m \u001b[43mrecord\u001b[49m\u001b[43m(\u001b[49m\u001b[43ma\u001b[49m\u001b[38;5;241;43m=\u001b[39;49m\u001b[38;5;241;43m20\u001b[39;49m\u001b[43m,\u001b[49m\u001b[43mb\u001b[49m\u001b[38;5;241;43m=\u001b[39;49m\u001b[38;5;241;43m60\u001b[39;49m\u001b[43m,\u001b[49m\u001b[43mc\u001b[49m\u001b[38;5;241;43m=\u001b[39;49m\u001b[38;5;241;43m60\u001b[39;49m\u001b[43m)\u001b[49m\n",
      "\u001b[1;31mTypeError\u001b[0m: record() got an unexpected keyword argument 'a'"
     ]
    }
   ],
   "source": [
    "#artibary keywords\n",
    "def record(*marks):\n",
    "    for i in range:\n",
    "        subject=i\n",
    "        subject_marks=marks[i]\n",
    "    print(subjects,subjects_marks)\n",
    "record(a=20,b=60,c=60)"
   ]
  },
  {
   "cell_type": "code",
   "execution_count": 12,
   "id": "3d0eda77",
   "metadata": {},
   "outputs": [
    {
     "name": "stdout",
     "output_type": "stream",
     "text": [
      "1\n",
      "5\n",
      "6\n",
      "99\n",
      "850\n",
      "635\n"
     ]
    }
   ],
   "source": [
    "#for loop \n",
    "a=[1,5,6,99,850,635]\n",
    "for i in a:\n",
    "    print(i)"
   ]
  },
  {
   "cell_type": "code",
   "execution_count": 16,
   "id": "a195ff95",
   "metadata": {},
   "outputs": [
    {
     "name": "stdout",
     "output_type": "stream",
     "text": [
      "mango\n",
      "orange\n",
      "grapes\n",
      "blueberry\n"
     ]
    }
   ],
   "source": [
    "fruits=[\"mango\",\"orange\",\"grapes\",\"blueberry\"]\n",
    "for i in fruits:\n",
    "    print(i)"
   ]
  },
  {
   "cell_type": "code",
   "execution_count": 13,
   "id": "f383c3e3",
   "metadata": {},
   "outputs": [
    {
     "name": "stdout",
     "output_type": "stream",
     "text": [
      "0 1 2 3 4 5 6 7 8 9 10 11 12 13 14 15 16 17 18 19 "
     ]
    }
   ],
   "source": [
    "#range function with one arugment\n",
    "for i in range(20):\n",
    "    print(i,end=\" \")"
   ]
  },
  {
   "cell_type": "code",
   "execution_count": 22,
   "id": "c3e0f1d7",
   "metadata": {},
   "outputs": [
    {
     "name": "stdout",
     "output_type": "stream",
     "text": [
      "2 3 4 5 6 7 8 9 "
     ]
    }
   ],
   "source": [
    "#range function with two arugment\n",
    "for i in range(2,10):\n",
    "    print(i,end=\" \")"
   ]
  },
  {
   "cell_type": "code",
   "execution_count": 17,
   "id": "b38bebe4",
   "metadata": {},
   "outputs": [
    {
     "name": "stdout",
     "output_type": "stream",
     "text": [
      "2 5 8 11 14 17 20 23 26 29 "
     ]
    }
   ],
   "source": [
    "#range function with three arugment\n",
    "for i in range(2,30,3):\n",
    "    print(i,end=\" \")"
   ]
  },
  {
   "cell_type": "code",
   "execution_count": 24,
   "id": "739b76c5",
   "metadata": {},
   "outputs": [
    {
     "name": "stdout",
     "output_type": "stream",
     "text": [
      "0\n",
      "1\n",
      "2\n",
      "3\n",
      "4\n",
      "5\n"
     ]
    }
   ],
   "source": [
    "#break\n",
    "for i in range(20):\n",
    "    print(i)\n",
    "    if i==5:\n",
    "        break"
   ]
  },
  {
   "cell_type": "code",
   "execution_count": 25,
   "id": "abbcd600",
   "metadata": {},
   "outputs": [
    {
     "name": "stdout",
     "output_type": "stream",
     "text": [
      "0 1 2 3 4 5 6 7 8 9 10 11 12 13 14 15 16 17 18 19 reached here after reaching termination\n",
      "program ended\n"
     ]
    }
   ],
   "source": [
    "#else\n",
    "for i in range(20):\n",
    "    print(i,end=\" \")\n",
    "else:\n",
    "    print(\"reached here after reaching termination\")\n",
    "print(\"program ended\")"
   ]
  },
  {
   "cell_type": "code",
   "execution_count": 30,
   "id": "50c76154",
   "metadata": {},
   "outputs": [
    {
     "name": "stdout",
     "output_type": "stream",
     "text": [
      "0 1 2 3 4 program ended\n"
     ]
    }
   ],
   "source": [
    "for i in range(20):\n",
    "    print(i,end=\" \")\n",
    "    if i==4:\n",
    "        break\n",
    "else:\n",
    "    print(\"reached here after reaching termination\")\n",
    "print(\"program ended\")"
   ]
  },
  {
   "cell_type": "code",
   "execution_count": 32,
   "id": "235d1173",
   "metadata": {},
   "outputs": [
    {
     "name": "stdout",
     "output_type": "stream",
     "text": [
      "0 value of i = 0\n",
      "1 value of i = 1\n",
      "2 value of i = 2\n",
      "3 value of i = 3\n",
      "4 5 value of i = 5\n",
      "6 value of i = 6\n",
      "7 value of i = 7\n",
      "8 value of i = 8\n",
      "9 value of i = 9\n",
      "program ended\n"
     ]
    }
   ],
   "source": [
    "#continue\n",
    "for i in range(10):\n",
    "    print(i,end=\" \")\n",
    "    if i==4:\n",
    "        continue\n",
    "    print(\"value of i =\",i)\n",
    "\n",
    "print(\"program ended\")"
   ]
  },
  {
   "cell_type": "code",
   "execution_count": 36,
   "id": "b8b1f970",
   "metadata": {},
   "outputs": [
    {
     "name": "stdout",
     "output_type": "stream",
     "text": [
      "0 value of i = 0\n",
      "1 value of i = 1\n",
      "2 value of i = 2\n",
      "3 value of i = 3\n",
      "4 value of i = 4\n",
      "5 value of i = 5\n",
      "6 value of i = 6\n",
      "7 value of i = 7\n",
      "8 9 value of i = 9\n",
      "reached here after reaching termination\n",
      "program ended\n"
     ]
    }
   ],
   "source": [
    "for i in range(10):\n",
    "    print(i,end=\" \")\n",
    "    if i==8:\n",
    "        continue\n",
    "    print(\"value of i =\",i)\n",
    "else:\n",
    "    print(\"reached here after reaching termination\")\n",
    "\n",
    "print(\"program ended\")"
   ]
  },
  {
   "cell_type": "code",
   "execution_count": 35,
   "id": "ac99dc52",
   "metadata": {},
   "outputs": [
    {
     "name": "stdout",
     "output_type": "stream",
     "text": [
      "end\n"
     ]
    }
   ],
   "source": [
    "#pass\n",
    "i==2\n",
    "if i>2:\n",
    "    pass\n",
    "else:\n",
    "    pass\n",
    "\n",
    "print(\"end\")\n"
   ]
  },
  {
   "cell_type": "code",
   "execution_count": 37,
   "id": "01097dc9",
   "metadata": {},
   "outputs": [
    {
     "name": "stdout",
     "output_type": "stream",
     "text": [
      "enter value of n 3\n",
      "3 X 1 = 3\n",
      "3 X 2 = 6\n",
      "3 X 3 = 9\n",
      "3 X 4 = 12\n",
      "3 X 5 = 15\n",
      "3 X 6 = 18\n",
      "3 X 7 = 21\n",
      "3 X 8 = 24\n",
      "3 X 9 = 27\n",
      "3 X 10 = 30\n"
     ]
    }
   ],
   "source": [
    "#multiplication table of n \n",
    "n=int(input(\"enter value of n \"))\n",
    "\n",
    "for i in range(1,11):\n",
    "    print(n,\"X\",i,\"=\",n*i)"
   ]
  },
  {
   "cell_type": "code",
   "execution_count": 40,
   "id": "5475eb9a",
   "metadata": {},
   "outputs": [
    {
     "name": "stdout",
     "output_type": "stream",
     "text": [
      "enter value of n 6\n",
      "result is 720\n"
     ]
    }
   ],
   "source": [
    "#factorial\n",
    "n=int(input(\"enter value of n \"))\n",
    "\n",
    "fact=1\n",
    "for i in range(1,n+1):\n",
    "    fact=fact*i\n",
    "print(\"result is\",fact)"
   ]
  },
  {
   "cell_type": "code",
   "execution_count": 3,
   "id": "12258a8c",
   "metadata": {},
   "outputs": [
    {
     "data": {
      "text/plain": [
       "10"
      ]
     },
     "execution_count": 3,
     "metadata": {},
     "output_type": "execute_result"
    }
   ],
   "source": [
    "#master class\n",
    "#20oct 22\n",
    "#global and local\n",
    "y=4\n",
    "def abc():\n",
    "    y=8\n",
    "    y=y+2\n",
    "    return y\n",
    "abc()"
   ]
  },
  {
   "cell_type": "code",
   "execution_count": 12,
   "id": "2abeb161",
   "metadata": {},
   "outputs": [
    {
     "name": "stdout",
     "output_type": "stream",
     "text": [
      "enter any number21\n",
      "number is composite\n"
     ]
    }
   ],
   "source": [
    "#doubt class\n",
    "#21 oct 22\n",
    "#version 1\n",
    "number=int(input(\"enter any number\"))\n",
    "\n",
    "isComposite = 0\n",
    "\n",
    "for i in range(2,number):\n",
    "    if (number%i==0):\n",
    "        isComposite = 1\n",
    "        break\n",
    "        \n",
    "if isComposite==1 :\n",
    "    print(\"number is composite\")\n",
    "else:\n",
    "    print(\"number is prime\")\n",
    "\n",
    "        \n",
    "\n",
    "        \n",
    "    "
   ]
  },
  {
   "cell_type": "code",
   "execution_count": 15,
   "id": "47775f4e",
   "metadata": {},
   "outputs": [
    {
     "name": "stdout",
     "output_type": "stream",
     "text": [
      "enter the lowerbound4\n",
      "enter the upperbound20\n",
      "Number 5 is PRIME\n",
      "Number 7 is PRIME\n",
      "Number 11 is PRIME\n",
      "Number 13 is PRIME\n",
      "Number 17 is PRIME\n",
      "Number 19 is PRIME\n"
     ]
    }
   ],
   "source": [
    "#version 2\n",
    "lb=int(input(\"enter the lowerbound\"))\n",
    "ub=int(input(\"enter the upperbound\"))\n",
    "\n",
    "\n",
    "for number in range(lb,ub+1):\n",
    "    iscomposite = 0\n",
    "    for i in range (2,number):\n",
    "        if number%i==0:\n",
    "            iscomposite =1\n",
    "            break\n",
    "            \n",
    "    if iscomposite==0:\n",
    "        print(\"Number\",number,\"is PRIME\")"
   ]
  },
  {
   "cell_type": "code",
   "execution_count": 22,
   "id": "c9620436",
   "metadata": {},
   "outputs": [
    {
     "name": "stdout",
     "output_type": "stream",
     "text": [
      "0 \n",
      "1 2 \n",
      "3 4 5 \n",
      "6 7 8 9 \n",
      "10 11 12 13 14 \n",
      "15 16 17 18 19 20 \n",
      "21 22 23 24 25 26 27 \n",
      "28 29 30 31 32 33 34 35 \n",
      "36 37 38 39 40 41 42 43 44 \n",
      "45 46 47 48 49 50 51 52 53 54 \n",
      "55 56 57 58 59 60 61 62 63 64 65 \n",
      "66 67 68 69 70 71 72 73 74 75 76 77 \n",
      "78 79 80 81 82 83 84 85 86 87 88 89 90 \n",
      "91 92 93 94 95 96 97 98 99 100 101 102 103 104 \n",
      "105 106 107 108 109 110 111 112 113 114 115 116 117 118 119 \n",
      "120 121 122 123 124 125 126 127 128 129 130 131 132 133 134 135 \n",
      "136 137 138 139 140 141 142 143 144 145 146 147 148 149 150 151 152 \n",
      "153 154 155 156 157 158 159 160 161 162 163 164 165 166 167 168 169 170 \n",
      "171 172 173 174 175 176 177 178 179 180 181 182 183 184 185 186 187 188 189 \n"
     ]
    }
   ],
   "source": [
    "count=0\n",
    "\n",
    "for r in range (1,20):\n",
    "    for c in range(1,r+1):\n",
    "        print(count,end=\" \")\n",
    "        count=count+1\n",
    "    print()\n"
   ]
  },
  {
   "cell_type": "code",
   "execution_count": null,
   "id": "881e0b54",
   "metadata": {},
   "outputs": [],
   "source": []
  }
 ],
 "metadata": {
  "kernelspec": {
   "display_name": "Python 3 (ipykernel)",
   "language": "python",
   "name": "python3"
  },
  "language_info": {
   "codemirror_mode": {
    "name": "ipython",
    "version": 3
   },
   "file_extension": ".py",
   "mimetype": "text/x-python",
   "name": "python",
   "nbconvert_exporter": "python",
   "pygments_lexer": "ipython3",
   "version": "3.9.12"
  }
 },
 "nbformat": 4,
 "nbformat_minor": 5
}
