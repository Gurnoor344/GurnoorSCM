{
 "cells": [
  {
   "cell_type": "code",
   "execution_count": 5,
   "id": "b460a848",
   "metadata": {},
   "outputs": [
    {
     "name": "stdout",
     "output_type": "stream",
     "text": [
      "5\n",
      "* \n",
      "* * \n",
      "* * * \n",
      "* * * * \n",
      "* * * * * \n"
     ]
    }
   ],
   "source": [
    "#for loop\n",
    "n=int(input())\n",
    "for i in range(1,n+1):\n",
    "    for j in range(1,i+1):\n",
    "        print(\"*\",end=\" \")\n",
    "    print()"
   ]
  },
  {
   "cell_type": "code",
   "execution_count": 7,
   "id": "88b24d97",
   "metadata": {},
   "outputs": [
    {
     "name": "stdout",
     "output_type": "stream",
     "text": [
      "4\n",
      "1 \n",
      "2 2 \n",
      "3 3 3 \n",
      "4 4 4 4 \n"
     ]
    }
   ],
   "source": [
    "n=int(input())\n",
    "for i in range(1,n+1):\n",
    "    for j in range(1,i+1):\n",
    "        print(i,end=\" \")\n",
    "    print()"
   ]
  },
  {
   "cell_type": "code",
   "execution_count": 8,
   "id": "1a9cb5be",
   "metadata": {},
   "outputs": [
    {
     "name": "stdout",
     "output_type": "stream",
     "text": [
      "6\n",
      "1 \n",
      "1 2 \n",
      "1 2 3 \n",
      "1 2 3 4 \n",
      "1 2 3 4 5 \n",
      "1 2 3 4 5 6 \n"
     ]
    }
   ],
   "source": [
    "n=int(input())\n",
    "for i in range(1,n+1):\n",
    "    for j in range(1,i+1):\n",
    "        print(j,end=\" \")\n",
    "    print()"
   ]
  },
  {
   "cell_type": "code",
   "execution_count": 10,
   "id": "ff20c439",
   "metadata": {},
   "outputs": [
    {
     "name": "stdout",
     "output_type": "stream",
     "text": [
      "66\n",
      "A\n"
     ]
    }
   ],
   "source": [
    "print(ord(\"B\"))\n",
    "print(chr(65))"
   ]
  },
  {
   "cell_type": "code",
   "execution_count": 13,
   "id": "f5ee996d",
   "metadata": {},
   "outputs": [
    {
     "name": "stdout",
     "output_type": "stream",
     "text": [
      "5\n",
      "A \n",
      "A A \n",
      "A A A \n",
      "A A A A \n",
      "A A A A A \n"
     ]
    }
   ],
   "source": [
    "n=int(input())\n",
    "for i in range(1,n+1):\n",
    "    K=ord(\"A\")\n",
    "    for j in range(1,i+1):\n",
    "        print(chr(K),end=\" \")\n",
    "    print()"
   ]
  },
  {
   "cell_type": "code",
   "execution_count": 15,
   "id": "060e554a",
   "metadata": {},
   "outputs": [
    {
     "name": "stdout",
     "output_type": "stream",
     "text": [
      "4\n",
      "A \n",
      "A B \n",
      "A B C \n",
      "A B C D \n"
     ]
    }
   ],
   "source": [
    "n=int(input())\n",
    "for i in range(1,n+1):\n",
    "    K=ord(\"A\")\n",
    "    for j in range(1,i+1):\n",
    "        print(chr(K),end=\" \")\n",
    "        K=K+1\n",
    "    print()"
   ]
  },
  {
   "cell_type": "code",
   "execution_count": 17,
   "id": "da73d4e7",
   "metadata": {},
   "outputs": [
    {
     "name": "stdout",
     "output_type": "stream",
     "text": [
      "4\n",
      "* * * * \n",
      "* * * \n",
      "* * \n",
      "* \n",
      "\n"
     ]
    }
   ],
   "source": [
    "n=int(input())\n",
    "for i in range(n,-1,-1):\n",
    "    for j in range(1,i+1):\n",
    "        print(\"*\",end=\" \")\n",
    "    print()"
   ]
  },
  {
   "cell_type": "code",
   "execution_count": 19,
   "id": "1e0bcbe0",
   "metadata": {},
   "outputs": [
    {
     "name": "stdout",
     "output_type": "stream",
     "text": [
      "5\n",
      "5 5 5 5 5 \n",
      "4 4 4 4 \n",
      "3 3 3 \n",
      "2 2 \n",
      "1 \n",
      "\n"
     ]
    }
   ],
   "source": [
    "n=int(input())\n",
    "for i in range(n,-1,-1):\n",
    "    for j in range(i):\n",
    "        print(i,end=\" \")\n",
    "    print()"
   ]
  },
  {
   "cell_type": "code",
   "execution_count": 1,
   "id": "b266c3fa",
   "metadata": {},
   "outputs": [
    {
     "name": "stdout",
     "output_type": "stream",
     "text": [
      "Enter the no of rows5\n",
      "Enter the no of columns7\n",
      "* * * * * * * \n",
      "* * * * * * * \n",
      "* * * * * * * \n",
      "* * * * * * * \n",
      "* * * * * * * \n"
     ]
    }
   ],
   "source": [
    "#while loop\n",
    "rows=int(input(\"Enter the no of rows\"))\n",
    "col=int(input(\"Enter the no of columns\"))\n",
    "\n",
    "r=0\n",
    "while r<rows:\n",
    "    c=0\n",
    "    while c<col:\n",
    "        print(\"*\",end=' ')\n",
    "        c=c+1\n",
    "    print()\n",
    "    r=r+1\n"
   ]
  },
  {
   "cell_type": "code",
   "execution_count": 2,
   "id": "7c18df45",
   "metadata": {},
   "outputs": [
    {
     "name": "stdout",
     "output_type": "stream",
     "text": [
      "Enter the no of rows3\n",
      "Enter the no of columns5\n",
      "1 1 1 1 1 \n",
      "2 2 2 2 2 \n",
      "3 3 3 3 3 \n"
     ]
    }
   ],
   "source": [
    "rows=int(input(\"Enter the no of rows\"))\n",
    "col=int(input(\"Enter the no of columns\"))\n",
    "\n",
    "r=1\n",
    "while r<=rows:\n",
    "    c=1\n",
    "    while c<=col:\n",
    "        print(r,end=' ')\n",
    "        c=c+1\n",
    "    print()\n",
    "    r=r+1\n"
   ]
  },
  {
   "cell_type": "code",
   "execution_count": 5,
   "id": "f9a6bf25",
   "metadata": {},
   "outputs": [
    {
     "name": "stdout",
     "output_type": "stream",
     "text": [
      "Enter the no of rows6\n",
      "Enter the no of columns5\n",
      "1 2 3 4 5 \n",
      "1 2 3 4 5 \n",
      "1 2 3 4 5 \n",
      "1 2 3 4 5 \n",
      "1 2 3 4 5 \n",
      "1 2 3 4 5 \n"
     ]
    }
   ],
   "source": [
    "rows=int(input(\"Enter the no of rows\"))\n",
    "col=int(input(\"Enter the no of columns\"))\n",
    "\n",
    "r=1\n",
    "while r<=rows:\n",
    "    c=1\n",
    "    while c<=col:\n",
    "        print(c,end=' ')\n",
    "        c=c+1\n",
    "    print()\n",
    "    r=r+1"
   ]
  },
  {
   "cell_type": "code",
   "execution_count": 11,
   "id": "ea81870e",
   "metadata": {},
   "outputs": [
    {
     "name": "stdout",
     "output_type": "stream",
     "text": [
      "Enter the no of rows8\n",
      "Enter the no of columns6\n"
     ]
    }
   ],
   "source": [
    "rows=int(input(\"Enter the no of rows\"))\n",
    "col=int(input(\"Enter the no of columns\"))\n",
    "\n",
    "r=1\n",
    "while r>=rows:\n",
    "    c=col\n",
    "    while c>=1:\n",
    "        print(c,end=' ')\n",
    "        c=c-1\n",
    "    print()\n",
    "    r=r-1"
   ]
  },
  {
   "cell_type": "code",
   "execution_count": 13,
   "id": "aff5e1d7",
   "metadata": {},
   "outputs": [
    {
     "name": "stdout",
     "output_type": "stream",
     "text": [
      "Enter the no of rows8\n",
      "Enter the no of columns10\n",
      "1 \n",
      "1 2 \n",
      "1 2 3 \n",
      "1 2 3 4 \n",
      "1 2 3 4 5 \n",
      "1 2 3 4 5 6 \n",
      "1 2 3 4 5 6 7 \n",
      "1 2 3 4 5 6 7 8 \n"
     ]
    }
   ],
   "source": [
    "rows=int(input(\"Enter the no of rows\"))\n",
    "col=int(input(\"Enter the no of columns\"))\n",
    "\n",
    "r=1\n",
    "while r<=rows:\n",
    "    c=1\n",
    "    while c<=r:\n",
    "        print(c,end=' ')\n",
    "        c=c+1\n",
    "    print()\n",
    "    r=r+1\n"
   ]
  },
  {
   "cell_type": "code",
   "execution_count": 14,
   "id": "d00e61f8",
   "metadata": {},
   "outputs": [
    {
     "name": "stdout",
     "output_type": "stream",
     "text": [
      "enter any number741\n",
      "result is 147\n"
     ]
    }
   ],
   "source": [
    "N=int(input(\"enter any number\"))\n",
    "\n",
    "rev=0\n",
    "while N!=0:\n",
    "    rem=N%10\n",
    "    rev=rev*10+rem\n",
    "    N=N//10\n",
    "print(\"result is\",rev)"
   ]
  },
  {
   "cell_type": "code",
   "execution_count": 2,
   "id": "5aaab640",
   "metadata": {},
   "outputs": [
    {
     "name": "stdout",
     "output_type": "stream",
     "text": [
      "4\n",
      "1 \n",
      "2 3 \n",
      "4 5 6 \n",
      "7 8 9 10 \n"
     ]
    }
   ],
   "source": [
    "#18 oct 22\n",
    "r=int(input())\n",
    "k=1\n",
    "for i in range(1,r+1):\n",
    "    for j in range(1,i+1):\n",
    "        print(k,end=\" \")\n",
    "        k=k+1\n",
    "    print()"
   ]
  },
  {
   "cell_type": "code",
   "execution_count": 5,
   "id": "c68793d5",
   "metadata": {},
   "outputs": [
    {
     "name": "stdout",
     "output_type": "stream",
     "text": [
      "6\n",
      "     * \n",
      "    * * \n",
      "   * * * \n",
      "  * * * * \n",
      " * * * * * \n",
      "* * * * * * \n"
     ]
    }
   ],
   "source": [
    "# logic row-i-j\n",
    "n=int(input())\n",
    "for i in range(0,n):\n",
    "    for j in range(0,n-i-1):\n",
    "        print(end=\" \")\n",
    "    for j in range(0,i+1):\n",
    "        print(\"*\",end=\" \")\n",
    "    print()\n",
    "    \n",
    "    "
   ]
  },
  {
   "cell_type": "code",
   "execution_count": 9,
   "id": "2d694e77",
   "metadata": {},
   "outputs": [
    {
     "name": "stdout",
     "output_type": "stream",
     "text": [
      "chitkara\n",
      "c \n"
     ]
    }
   ],
   "source": [
    "str=input()\n",
    "l=len(str)\n",
    "for i in range(1):\n",
    "    for j in range(i+1):\n",
    "         print(str[j],end=\" \")\n",
    "    print()"
   ]
  },
  {
   "cell_type": "code",
   "execution_count": 13,
   "id": "a93384f5",
   "metadata": {},
   "outputs": [
    {
     "name": "stdout",
     "output_type": "stream",
     "text": [
      "5\n",
      "     1\n",
      "    212\n",
      "   32123\n",
      "  4321234\n",
      " 543212345\n"
     ]
    }
   ],
   "source": [
    "r=int(input())\n",
    "for i in range(1,r+1):\n",
    "    for j in range(0,r-i+1):\n",
    "        print(end=\" \")\n",
    "    for j in range(i,0,-1):\n",
    "        print(j,end=\"\")\n",
    "    for j in range(2,i+1):\n",
    "        print(j,end=\"\")\n",
    "    print()"
   ]
  },
  {
   "cell_type": "code",
   "execution_count": 25,
   "id": "a1b72590",
   "metadata": {},
   "outputs": [
    {
     "name": "stdout",
     "output_type": "stream",
     "text": [
      "Enter the stop point8\n",
      "1 1 2 3 5 8 "
     ]
    }
   ],
   "source": [
    "#fibonacci \n",
    "stopPoint=int(input(\"Enter the stop point\"))\n",
    "\n",
    "\n",
    "a=1\n",
    "print(a,end=\" \")\n",
    "b=1\n",
    "print(b,end=\" \")\n",
    "\n",
    "c=a+b\n",
    "\n",
    "while c<=stopPoint:\n",
    "    print(c,end=\" \")\n",
    "    a=b\n",
    "    b=c\n",
    "    c=a+b\n",
    "    \n"
   ]
  },
  {
   "cell_type": "code",
   "execution_count": 26,
   "id": "929593f7",
   "metadata": {},
   "outputs": [
    {
     "name": "stdout",
     "output_type": "stream",
     "text": [
      "Enter the stop point78\n",
      "1 1 2 3 5 8 13 21 34 55 total terms =  10\n"
     ]
    }
   ],
   "source": [
    "stopPoint=int(input(\"Enter the stop point\"))\n",
    "\n",
    "count= 2\n",
    "a=1\n",
    "print(a,end=\" \")\n",
    "b=1\n",
    "print(b,end=\" \")\n",
    "\n",
    "c=a+b\n",
    "\n",
    "while c<=stopPoint:\n",
    "    print(c,end=\" \")\n",
    "    count=count+1\n",
    "    a=b\n",
    "    b=c\n",
    "    c=a+b\n",
    "    \n",
    "print(\"total terms = \", count)"
   ]
  },
  {
   "cell_type": "code",
   "execution_count": 27,
   "id": "b04e9817",
   "metadata": {},
   "outputs": [
    {
     "name": "stdout",
     "output_type": "stream",
     "text": [
      "Enter the stop point10\n",
      "1 1 2 3 5 8 \n",
      "total terms =  6\n"
     ]
    }
   ],
   "source": [
    "stopPoint=int(input(\"Enter the stop point\"))\n",
    "\n",
    "count= 2\n",
    "a=1\n",
    "print(a,end=\" \")\n",
    "b=1\n",
    "print(b,end=\" \")\n",
    "\n",
    "c=a+b\n",
    "\n",
    "while c<=stopPoint:\n",
    "    print(c,end=\" \")\n",
    "    count=count+1\n",
    "    a=b\n",
    "    b=c\n",
    "    c=a+b\n",
    "    \n",
    "print(\"\\ntotal terms = \", count)"
   ]
  },
  {
   "cell_type": "code",
   "execution_count": 24,
   "id": "7840545c",
   "metadata": {},
   "outputs": [
    {
     "name": "stdout",
     "output_type": "stream",
     "text": [
      "Enter the stop point2\n",
      "1\n"
     ]
    }
   ],
   "source": [
    "TermNum=int(input(\"Enter the stop point\"))\n",
    "\n",
    "count = 2\n",
    "a = 1\n",
    "b = 1\n",
    "c = a + b\n",
    "\n",
    "if TermNum == 1 or TermNum == 2:\n",
    "    print(1)\n",
    "else:\n",
    "    while True:\n",
    "        count=count+1\n",
    "        if count==TermNum:\n",
    "            print(c)\n",
    "            break;\n",
    "        a=b\n",
    "        b=c\n",
    "        c=a+b\n",
    "    \n"
   ]
  },
  {
   "cell_type": "code",
   "execution_count": 29,
   "id": "04e348e4",
   "metadata": {},
   "outputs": [
    {
     "name": "stdout",
     "output_type": "stream",
     "text": [
      "enter any number55\n",
      "true\n"
     ]
    }
   ],
   "source": [
    "#Pallindrome\n",
    "N=int(input(\"enter any number\"))\n",
    "\n",
    "Temp=N\n",
    "rev=0\n",
    "while Temp!=0:\n",
    "    rem=Temp%10\n",
    "    rev=rev*10+rem\n",
    "    Temp=Temp//10\n",
    "    \n",
    "if N==rev:\n",
    "    print(\"true\")\n",
    "else:\n",
    "    print(\"false\")\n"
   ]
  },
  {
   "cell_type": "code",
   "execution_count": null,
   "id": "e1625ba3",
   "metadata": {},
   "outputs": [],
   "source": []
  }
 ],
 "metadata": {
  "kernelspec": {
   "display_name": "Python 3 (ipykernel)",
   "language": "python",
   "name": "python3"
  },
  "language_info": {
   "codemirror_mode": {
    "name": "ipython",
    "version": 3
   },
   "file_extension": ".py",
   "mimetype": "text/x-python",
   "name": "python",
   "nbconvert_exporter": "python",
   "pygments_lexer": "ipython3",
   "version": "3.9.12"
  }
 },
 "nbformat": 4,
 "nbformat_minor": 5
}
